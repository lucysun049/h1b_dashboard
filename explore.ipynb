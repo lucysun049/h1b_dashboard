{
 "cells": [
  {
   "cell_type": "code",
   "execution_count": null,
   "id": "1b0c0dd7",
   "metadata": {},
   "outputs": [],
   "source": [
    "import pandas as pd\n",
    "import numpy as np"
   ]
  },
  {
   "cell_type": "code",
   "execution_count": null,
   "id": "5e690943",
   "metadata": {},
   "outputs": [],
   "source": [
    "\n",
    "import os\n",
    "cols_to_read = {'CASE_STATUS': str, 'DECISION_DATE': str, 'JOB_TITLE': str, 'SOC_CODE': str, 'SOC_TITLE': str, 'FULL_TIME_POSITION': str, \\\n",
    "                'EMPLOYER_NAME': str, 'EMPLOYER_CITY': str, 'EMPLOYER_STATE': str, 'EMPLOYER_COUNTRY': str, 'WORKSITE_CITY': str, 'WORKSITE_STATE': str,  \\\n",
    "                'WAGE_RATE_OF_PAY_FROM': float, 'WAGE_UNIT_OF_PAY': str, 'PREVAILING_WAGE': float, 'PW_UNIT_OF_PAY': str, 'PW_WAGE_LEVEL': str, 'H_1B_DEPENDENT': str}\n",
    "\n",
    "\n",
    "def read_lca_data(years, quarters):\n",
    "    dfs = {}\n",
    "    for year in years:\n",
    "        for quarter in quarters:\n",
    "            if os.path.exists(f'LCA_Disclosure_Data_FY{year}_Q{quarter}.parquet'):\n",
    "                try:\n",
    "                    df = pd.read_parquet(f'data/LCA_Disclosure_Data_FY{year}_Q{quarter}.parquet', columns=cols_to_read)\n",
    "                    dfs[f'{year}_Q{quarter}'] = df\n",
    "                    print(f\"Successfully loaded LCA_Disclosure_Data_FY{year}_Q{quarter}.parquet with {len(df)} rows\")\n",
    "                except Exception as e:\n",
    "                    print(f\"An error occurred while reading LCA_Disclosure_Data_FY{year}_Q{quarter}.parquet: {e}\")\n",
    "\n",
    "            else:\n",
    "                filename = f'data/LCA_Disclosure_Data_FY{year}_Q{quarter}.xlsx'\n",
    "                try:\n",
    "                    df = pd.read_excel(filename, usecols=cols_to_read.keys(), dtype=cols_to_read)\n",
    "                    df.to_parquet(f'data/LCA_Disclosure_Data_FY{year}_Q{quarter}.parquet')\n",
    "                    dfs[f'{year}_Q{quarter}'] = df\n",
    "                    print(f\"Successfully loaded {filename} with {len(df)} rows\")\n",
    "                except FileNotFoundError:\n",
    "                    print(f\"File {filename} not found. Skipping.\")\n",
    "                except Exception as e:\n",
    "                    print(f\"An error occurred while reading {filename}: {e}\")\n",
    "    return dfs\n",
    "\n",
    "\n",
    "# Read data from all available years\n",
    "dfs = read_lca_data([2022, 2023], [1, 2, 3, 4])\n",
    "\n",
    "# Concatenate all dataframes vertically\n",
    "df_combined = pd.concat([df for df in dfs.values()], axis=0, ignore_index=True)\n",
    "\n",
    "print(f\"\\nTotal combined dataframe shape: {df_combined.shape}\")\n",
    "print(f\"Number of datasets combined: {len(dfs)}\")\n",
    "print(f\"Individual dataset sizes:\")\n",
    "for key, df in dfs.items():\n",
    "    print(f\"  {key}: {len(df)} rows\")"
   ]
  },
  {
   "cell_type": "code",
   "execution_count": null,
   "id": "339cdc1d",
   "metadata": {},
   "outputs": [],
   "source": [
    "import requests\n",
    "\n",
    "def get_lca_data(year, quarter):\n",
    "    url = f\"https://www.dol.gov/sites/dolgov/files/ETA/oflc/pdfs/LCA_Disclosure_Data_FY{year}_Q{quarter}.xlsx\"\n",
    "\n",
    "    response = requests.get(url)\n",
    "    with open(f'data/LCA_Disclosure_Data_FY{year}_Q{quarter}.xlsx', 'wb') as f:\n",
    "        f.write(response.content)\n",
    "\n",
    "for year in [2022, 2023]:\n",
    "    for quarter in [1, 2, 3, 4]:\n",
    "        get_lca_data(year, quarter)\n",
    "\n",
    "!du -sh *.xlsx"
   ]
  }
 ],
 "metadata": {
  "kernelspec": {
   "display_name": "mlsp",
   "language": "python",
   "name": "python3"
  },
  "language_info": {
   "codemirror_mode": {
    "name": "ipython",
    "version": 3
   },
   "file_extension": ".py",
   "mimetype": "text/x-python",
   "name": "python",
   "nbconvert_exporter": "python",
   "pygments_lexer": "ipython3",
   "version": "3.9.6"
  }
 },
 "nbformat": 4,
 "nbformat_minor": 5
}
